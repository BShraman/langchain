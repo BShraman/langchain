{
 "cells": [
  {
   "cell_type": "markdown",
   "metadata": {
    "id": "UYmQyR5zxO_e"
   },
   "source": [
    "### OS Setup"
   ]
  },
  {
   "cell_type": "code",
   "execution_count": 1,
   "metadata": {},
   "outputs": [],
   "source": [
    "import os\n",
    "import openai\n",
    "import sys\n",
    "\n",
    "! rm -rf docs/\n",
    "! rm -rf youtube/"
   ]
  },
  {
   "cell_type": "markdown",
   "metadata": {
    "id": "wGraGjz04T_p"
   },
   "source": [
    "### **Video to Documnents**"
   ]
  },
  {
   "cell_type": "code",
   "execution_count": 2,
   "metadata": {
    "colab": {
     "base_uri": "https://localhost:8080/"
    },
    "id": "44g-jnIbxDqw",
    "outputId": "7bf14eba-2aa2-4850-95d7-560d6693497e",
    "scrolled": true
   },
   "outputs": [
    {
     "name": "stdout",
     "output_type": "stream",
     "text": [
      "[youtube] Extracting URL: https://www.youtube.com/watch?v=ed9346Z4uLk\n",
      "[youtube] ed9346Z4uLk: Downloading webpage\n",
      "[youtube] ed9346Z4uLk: Downloading ios player API JSON\n",
      "[youtube] ed9346Z4uLk: Downloading android player API JSON\n",
      "[youtube] ed9346Z4uLk: Downloading m3u8 information\n",
      "[info] ed9346Z4uLk: Downloading 1 format(s): 140\n",
      "[download] Destination: youtube//100 Years of NFL History In Under 4 Minutes!.m4a\n",
      "[download] 100% of    3.27MiB in 00:00:00 at 6.57MiB/s   \n",
      "[FixupM4a] Correcting container of \"youtube//100 Years of NFL History In Under 4 Minutes!.m4a\"\n",
      "[ExtractAudio] Not converting audio youtube//100 Years of NFL History In Under 4 Minutes!.m4a; file is already in target format m4a\n",
      "Transcribing part 1!\n"
     ]
    }
   ],
   "source": [
    "from langchain.document_loaders.generic import GenericLoader\n",
    "from langchain.document_loaders.parsers import OpenAIWhisperParser\n",
    "from langchain.document_loaders.blob_loaders.youtube_audio import YoutubeAudioLoader\n",
    "\n",
    "url=\"https://www.youtube.com/watch?v=ed9346Z4uLk\"\n",
    "save_dir=\"youtube/\"\n",
    "loader = GenericLoader(\n",
    "    YoutubeAudioLoader([url],save_dir),\n",
    "    OpenAIWhisperParser()\n",
    ")\n",
    "\n",
    "docs = loader.load()"
   ]
  },
  {
   "cell_type": "code",
   "execution_count": 3,
   "metadata": {
    "colab": {
     "base_uri": "https://localhost:8080/"
    },
    "id": "R-rTvsHE_r5-",
    "outputId": "8d63e88c-bc54-475e-8057-23ba7ad28236"
   },
   "outputs": [
    {
     "data": {
      "text/plain": [
       "1"
      ]
     },
     "execution_count": 3,
     "metadata": {},
     "output_type": "execute_result"
    }
   ],
   "source": [
    "len(docs)"
   ]
  },
  {
   "cell_type": "code",
   "execution_count": 4,
   "metadata": {
    "id": "hgh_ZAJJ_ta2"
   },
   "outputs": [],
   "source": [
    "page = docs[0]"
   ]
  },
  {
   "cell_type": "code",
   "execution_count": 5,
   "metadata": {
    "colab": {
     "base_uri": "https://localhost:8080/"
    },
    "id": "rWwRSytN_5T0",
    "outputId": "646f9f34-bf40-476a-d9e8-0d596e4eea96"
   },
   "outputs": [
    {
     "data": {
      "text/plain": [
       "{'source': 'youtube/100 Years of NFL History In Under 4 Minutes!.m4a',\n",
       " 'chunk': 0}"
      ]
     },
     "execution_count": 5,
     "metadata": {},
     "output_type": "execute_result"
    }
   ],
   "source": [
    "page.metadata"
   ]
  },
  {
   "cell_type": "code",
   "execution_count": 6,
   "metadata": {
    "colab": {
     "base_uri": "https://localhost:8080/",
     "height": 0
    },
    "id": "02_h7SZu_fFL",
    "outputId": "97e72f48-75c4-4742-d860-20a8a87bc3b5"
   },
   "outputs": [
    {
     "data": {
      "text/plain": [
       "'In 1920, the American Professional Football Association was born, becoming the NFL two years later. In 1933, the Chicago Bears defeated the New York G'"
      ]
     },
     "execution_count": 6,
     "metadata": {},
     "output_type": "execute_result"
    }
   ],
   "source": [
    "page.page_content[0:150]"
   ]
  },
  {
   "cell_type": "markdown",
   "metadata": {
    "id": "_H_DBDKKldL3"
   },
   "source": [
    "### **Document Splitting**"
   ]
  },
  {
   "cell_type": "code",
   "execution_count": 7,
   "metadata": {
    "id": "fuT4EVLLlgw0"
   },
   "outputs": [],
   "source": [
    "# Split\n",
    "from langchain.text_splitter import RecursiveCharacterTextSplitter\n",
    "text_splitter = RecursiveCharacterTextSplitter(\n",
    "    chunk_size = 1500,\n",
    "    chunk_overlap = 150\n",
    ")"
   ]
  },
  {
   "cell_type": "code",
   "execution_count": 8,
   "metadata": {
    "id": "M6x5sr7omZ3O"
   },
   "outputs": [],
   "source": [
    "splits = text_splitter.split_documents(docs)"
   ]
  },
  {
   "cell_type": "code",
   "execution_count": 9,
   "metadata": {
    "colab": {
     "base_uri": "https://localhost:8080/"
    },
    "id": "yw7_DaCImcW4",
    "outputId": "478ad2f3-c889-4525-b2cc-8c33177cd840"
   },
   "outputs": [
    {
     "data": {
      "text/plain": [
       "3"
      ]
     },
     "execution_count": 9,
     "metadata": {},
     "output_type": "execute_result"
    }
   ],
   "source": [
    "len(splits)"
   ]
  },
  {
   "cell_type": "code",
   "execution_count": 10,
   "metadata": {
    "colab": {
     "base_uri": "https://localhost:8080/"
    },
    "id": "6BnaKOv5mgFq",
    "outputId": "b7f38dc3-fea0-498d-ad8a-6d7d1dd97b1d",
    "scrolled": true
   },
   "outputs": [
    {
     "name": "stdout",
     "output_type": "stream",
     "text": [
      "page_content=\"In 1920, the American Professional Football Association was born, becoming the NFL two years later. In 1933, the Chicago Bears defeated the New York Giants in the league's inaugural championship game. Though the league featured black players prior, in 1946, the NFL officially integrated. In the 1958 championship game, the Baltimore Colts defeated the New York Giants in sudden death in what became known as the greatest game ever played. 45 million people tuned in, starting an explosion in viewership for future decades. The NFL merged with the American Football League in 1966, with the two league champions playing each other in the first AFL-NFL championship game, which later became known as Super Bowl I. The 1967 championship game was also known as the Ice Bowl, played at negative 13 degrees, so cold it froze the commentators' coffee. This was the Green Bay Packers' fourth NFL title in six years. They then won their second straight Super Bowl title. By 1969, Kansas City Chiefs owner Lamar Hunt named the championship game the Super Bowl after watching his kids play with Super Ball toys. That year, the Jets were the first AFL team to win the Super Bowl, defeating the Colts 16-7. In 1970, Monday Night Football debuted on primetime TV, further raising the league's profile. The 72 Dolphins became the first, and still only, team in the Super Bowl era to finish undefeated. They beat the Redskins in Super Bowl VII to finish the season 17-0. In 1978, newly introduced rules made\" metadata={'source': 'youtube/100 Years of NFL History In Under 4 Minutes!.m4a', 'chunk': 0}\n"
     ]
    }
   ],
   "source": [
    "print(splits[0])\n"
   ]
  },
  {
   "cell_type": "code",
   "execution_count": 11,
   "metadata": {
    "colab": {
     "base_uri": "https://localhost:8080/"
    },
    "id": "yPsraS2DmvWO",
    "outputId": "1b1d4df9-444d-4594-c92d-29a582a8bf67",
    "scrolled": true
   },
   "outputs": [
    {
     "name": "stdout",
     "output_type": "stream",
     "text": [
      "page_content=\"in the Super Bowl era to finish undefeated. They beat the Redskins in Super Bowl VII to finish the season 17-0. In 1978, newly introduced rules made defending the pass more difficult. The Steelers capitalized, winning the next two Super Bowls, giving them four in six seasons, cementing a 1970s dynasty. Dwight Clark made the catch to take the 49ers to the 1982 Super Bowl, sparking their 80s dynasty in the era of the pass-heavy West Coast offense. The Cowboys were next in the 90s, winning Super Bowls in 93, 94, and 96. After the attacks of September 11th devastated America, many people found a semblance of normalcy in the 2001 NFL season. That year, a week-two injury to Drew Bledsoe of the Patriots allowed little-known second-year quarterback Tom Brady to take the NFL stage. That year, Brady and the Patriots won the first of six Super Bowls over an 18-season stretch. They entered the NFL's 100th season as defending champions, and Brady has the consensus choice as the greatest player ever. In 2007, the NFL played its first game in London, starting a series of international games that now sees four games a year played in the UK and one in Mexico. In 2019, two of the NFL's founding franchises, the Chicago Bears, originally the Decatur Stalys, and the Arizona Cardinals, originally the Chicago Cardinals, are still part of the NFL in its 100th season. Twenty NFL teams have won at least one of the first 53 Super Bowls. During the season, NFL games are played three days a week and\" metadata={'source': 'youtube/100 Years of NFL History In Under 4 Minutes!.m4a', 'chunk': 0}\n"
     ]
    }
   ],
   "source": [
    "print(splits[1])"
   ]
  },
  {
   "cell_type": "code",
   "execution_count": 12,
   "metadata": {
    "colab": {
     "base_uri": "https://localhost:8080/"
    },
    "id": "hY4Egs9rnksG",
    "outputId": "e7b93f66-776f-457c-dd67-352f8933f458"
   },
   "outputs": [
    {
     "name": "stdout",
     "output_type": "stream",
     "text": [
      "page_content=\"its 100th season. Twenty NFL teams have won at least one of the first 53 Super Bowls. During the season, NFL games are played three days a week and shown on TV networks and streaming services around the globe. The league's structure and revenue sharing amongst all teams have kept the NFL the most popular sports league in the U.S. for several decades and is poised to remain so for many more. Here's to the next 100 years.\" metadata={'source': 'youtube/100 Years of NFL History In Under 4 Minutes!.m4a', 'chunk': 0}\n"
     ]
    }
   ],
   "source": [
    "print(splits[2])"
   ]
  },
  {
   "cell_type": "code",
   "execution_count": 13,
   "metadata": {
    "colab": {
     "base_uri": "https://localhost:8080/"
    },
    "id": "NMVzU4qf_6uR",
    "outputId": "423b7d7d-e57f-4bd0-e732-3432fedcd86c"
   },
   "outputs": [
    {
     "name": "stdout",
     "output_type": "stream",
     "text": [
      "{'source': 'youtube/100 Years of NFL History In Under 4 Minutes!.m4a', 'chunk': 0}\n"
     ]
    }
   ],
   "source": [
    "for doc in docs:\n",
    "    print(doc.metadata)"
   ]
  },
  {
   "cell_type": "markdown",
   "metadata": {
    "id": "a-1RXTs6o9_s"
   },
   "source": [
    "### **Embedding & Vector Store**"
   ]
  },
  {
   "cell_type": "code",
   "execution_count": 14,
   "metadata": {
    "id": "KW6Uf8XWo7HU"
   },
   "outputs": [],
   "source": [
    "from langchain.vectorstores import Chroma\n",
    "from langchain_openai import OpenAIEmbeddings\n",
    "\n",
    "embeddings = OpenAIEmbeddings()\n",
    "persist_directory = 'docs/chroma/'"
   ]
  },
  {
   "cell_type": "code",
   "execution_count": 15,
   "metadata": {
    "id": "_qeHNF_PAMVF"
   },
   "outputs": [],
   "source": [
    "! rm -rf $persist_directory"
   ]
  },
  {
   "cell_type": "code",
   "execution_count": 16,
   "metadata": {
    "id": "jgFp4nTzASeU"
   },
   "outputs": [],
   "source": [
    "vectordb = Chroma.from_documents(\n",
    "    documents=splits,\n",
    "    embedding=embeddings,\n",
    "    persist_directory=persist_directory\n",
    ")"
   ]
  },
  {
   "cell_type": "code",
   "execution_count": 17,
   "metadata": {
    "colab": {
     "base_uri": "https://localhost:8080/"
    },
    "id": "Ejm1eUdqAzHG",
    "outputId": "dc9e5814-54fe-4640-fd94-c9c2dbc6b5d1"
   },
   "outputs": [
    {
     "name": "stdout",
     "output_type": "stream",
     "text": [
      "3\n"
     ]
    }
   ],
   "source": [
    "print(vectordb._collection.count())"
   ]
  },
  {
   "cell_type": "code",
   "execution_count": 18,
   "metadata": {
    "id": "_kV_lhwYpcw_",
    "scrolled": true
   },
   "outputs": [],
   "source": [
    "from langchain.vectorstores import DocArrayInMemorySearch\n",
    "\n",
    "# create vector database from data\n",
    "db = DocArrayInMemorySearch.from_documents(\n",
    "    docs,\n",
    "    embeddings)"
   ]
  },
  {
   "cell_type": "code",
   "execution_count": 19,
   "metadata": {
    "id": "cRQQK5SKAQx_"
   },
   "outputs": [],
   "source": [
    "#Save this so we can use it later!\n",
    "vectordb.persist()"
   ]
  },
  {
   "cell_type": "code",
   "execution_count": 57,
   "metadata": {
    "colab": {
     "base_uri": "https://localhost:8080/"
    },
    "id": "g6EiLwEIeNK8",
    "outputId": "d8e5594f-ade9-4d96-b1b3-3f2a2cb4f4b1"
   },
   "outputs": [
    {
     "data": {
      "text/plain": [
       "3"
      ]
     },
     "execution_count": 57,
     "metadata": {},
     "output_type": "execute_result"
    }
   ],
   "source": [
    "question = \"Search for NFL .\"\n",
    "\n",
    "result = vectordb.similarity_search(question,k=3)\n",
    "\n",
    "len(result)"
   ]
  },
  {
   "cell_type": "code",
   "execution_count": 58,
   "metadata": {
    "colab": {
     "base_uri": "https://localhost:8080/"
    },
    "id": "_sfuGJ_GfLWo",
    "outputId": "d5e883d9-013e-4780-9703-943130678c07",
    "scrolled": true
   },
   "outputs": [
    {
     "name": "stdout",
     "output_type": "stream",
     "text": [
      "[Document(page_content=\"its 100th season. Twenty NFL teams have won at least one of the first 53 Super Bowls. During the season, NFL games are played three days a week and shown on TV networks and streaming services around the globe. The league's structure and revenue sharing amongst all teams have kept the NFL the most popular sports league in the U.S. for several decades and is poised to remain so for many more. Here's to the next 100 years.\", metadata={'chunk': 0, 'source': 'youtube/100 Years of NFL History In Under 4 Minutes!.m4a'}), Document(page_content=\"In 1920, the American Professional Football Association was born, becoming the NFL two years later. In 1933, the Chicago Bears defeated the New York Giants in the league's inaugural championship game. Though the league featured black players prior, in 1946, the NFL officially integrated. In the 1958 championship game, the Baltimore Colts defeated the New York Giants in sudden death in what became known as the greatest game ever played. 45 million people tuned in, starting an explosion in viewership for future decades. The NFL merged with the American Football League in 1966, with the two league champions playing each other in the first AFL-NFL championship game, which later became known as Super Bowl I. The 1967 championship game was also known as the Ice Bowl, played at negative 13 degrees, so cold it froze the commentators' coffee. This was the Green Bay Packers' fourth NFL title in six years. They then won their second straight Super Bowl title. By 1969, Kansas City Chiefs owner Lamar Hunt named the championship game the Super Bowl after watching his kids play with Super Ball toys. That year, the Jets were the first AFL team to win the Super Bowl, defeating the Colts 16-7. In 1970, Monday Night Football debuted on primetime TV, further raising the league's profile. The 72 Dolphins became the first, and still only, team in the Super Bowl era to finish undefeated. They beat the Redskins in Super Bowl VII to finish the season 17-0. In 1978, newly introduced rules made\", metadata={'chunk': 0, 'source': 'youtube/100 Years of NFL History In Under 4 Minutes!.m4a'}), Document(page_content=\"in the Super Bowl era to finish undefeated. They beat the Redskins in Super Bowl VII to finish the season 17-0. In 1978, newly introduced rules made defending the pass more difficult. The Steelers capitalized, winning the next two Super Bowls, giving them four in six seasons, cementing a 1970s dynasty. Dwight Clark made the catch to take the 49ers to the 1982 Super Bowl, sparking their 80s dynasty in the era of the pass-heavy West Coast offense. The Cowboys were next in the 90s, winning Super Bowls in 93, 94, and 96. After the attacks of September 11th devastated America, many people found a semblance of normalcy in the 2001 NFL season. That year, a week-two injury to Drew Bledsoe of the Patriots allowed little-known second-year quarterback Tom Brady to take the NFL stage. That year, Brady and the Patriots won the first of six Super Bowls over an 18-season stretch. They entered the NFL's 100th season as defending champions, and Brady has the consensus choice as the greatest player ever. In 2007, the NFL played its first game in London, starting a series of international games that now sees four games a year played in the UK and one in Mexico. In 2019, two of the NFL's founding franchises, the Chicago Bears, originally the Decatur Stalys, and the Arizona Cardinals, originally the Chicago Cardinals, are still part of the NFL in its 100th season. Twenty NFL teams have won at least one of the first 53 Super Bowls. During the season, NFL games are played three days a week and\", metadata={'chunk': 0, 'source': 'youtube/100 Years of NFL History In Under 4 Minutes!.m4a'})]\n"
     ]
    }
   ],
   "source": [
    "print(result)"
   ]
  },
  {
   "cell_type": "markdown",
   "metadata": {
    "id": "EVGcYTduZ5yc"
   },
   "source": [
    "### **QA with Data**"
   ]
  },
  {
   "cell_type": "code",
   "execution_count": 22,
   "metadata": {
    "colab": {
     "base_uri": "https://localhost:8080/"
    },
    "id": "IDd5kkM9a1-f",
    "outputId": "d766db5b-4230-41e1-9f7b-6a17014544a2"
   },
   "outputs": [
    {
     "name": "stdout",
     "output_type": "stream",
     "text": [
      "gpt-3.5-turbo\n"
     ]
    }
   ],
   "source": [
    "import datetime\n",
    "current_date = datetime.datetime.now().date()\n",
    "if current_date < datetime.date(2023, 9, 2):\n",
    "    llm_name = \"gpt-3.5-turbo-0301\"\n",
    "else:\n",
    "    llm_name = \"gpt-3.5-turbo\"\n",
    "print(llm_name)"
   ]
  },
  {
   "cell_type": "code",
   "execution_count": 41,
   "metadata": {
    "colab": {
     "base_uri": "https://localhost:8080/"
    },
    "id": "dzlKkd2RaosP",
    "outputId": "8e5bb790-6c4a-44a6-d90e-eadfdb706aa9"
   },
   "outputs": [],
   "source": [
    "from langchain.chat_models import ChatOpenAI\n",
    "\n",
    "llm = ChatOpenAI(\n",
    "    model_name=llm_name,\n",
    "    temperature=0\n",
    "    )"
   ]
  },
  {
   "cell_type": "code",
   "execution_count": 50,
   "metadata": {},
   "outputs": [],
   "source": [
    "from langchain.prompts import PromptTemplate\n",
    "\n",
    "template = \"\"\" Use the following pieces of context to answer the question at the end. If you don't know the answer, just say that you don't know—don't try to make up an answer. Keep the answer to a maximum of three sentences and be as concise as possible. Always conclude your response with \"Thanks for asking!.\"\n",
    "\n",
    "Context:\n",
    "{context}\n",
    "\n",
    "Question:\n",
    "{question}\n",
    "\n",
    "Helpful Answer: \"\"\"\n",
    "\n",
    "QA_CHAIN_PROMPT = PromptTemplate.from_template(template)"
   ]
  },
  {
   "cell_type": "code",
   "execution_count": 51,
   "metadata": {
    "id": "CoIkiVS8aQe-"
   },
   "outputs": [],
   "source": [
    "from langchain.chains import RetrievalQA\n",
    "\n",
    "# Run chain\n",
    "qa_chain = RetrievalQA.from_chain_type(\n",
    "    llm,\n",
    "    retriever=vectordb.as_retriever(),\n",
    "    return_source_documents=False,\n",
    "    chain_type_kwargs={\"prompt\": QA_CHAIN_PROMPT}\n",
    ")"
   ]
  },
  {
   "cell_type": "code",
   "execution_count": 52,
   "metadata": {
    "id": "QL9JSRFJbJKV"
   },
   "outputs": [],
   "source": [
    "question = \"Which game are we talking about?\""
   ]
  },
  {
   "cell_type": "code",
   "execution_count": 56,
   "metadata": {
    "colab": {
     "base_uri": "https://localhost:8080/"
    },
    "id": "N2GUPS5pbV21",
    "outputId": "4dfa9bf4-5a77-4273-e61f-712428feab9f"
   },
   "outputs": [
    {
     "name": "stderr",
     "output_type": "stream",
     "text": [
      "Number of requested results 4 is greater than number of elements in index 3, updating n_results = 3\n"
     ]
    }
   ],
   "source": [
    "result = qa_chain({\"query\": question})"
   ]
  },
  {
   "cell_type": "code",
   "execution_count": 54,
   "metadata": {
    "colab": {
     "base_uri": "https://localhost:8080/"
    },
    "id": "5QlvFph9bXi8",
    "outputId": "a04f3695-585a-4813-90dd-a54e784eae30"
   },
   "outputs": [
    {
     "name": "stdout",
     "output_type": "stream",
     "text": [
      "{'query': 'Which game are we talking about?', 'result': 'The game being referred to is the 1958 championship game between the Baltimore Colts and the New York Giants, also known as the greatest game ever played. Thanks for asking!'}\n"
     ]
    }
   ],
   "source": [
    "print(result)"
   ]
  },
  {
   "cell_type": "code",
   "execution_count": 47,
   "metadata": {
    "colab": {
     "base_uri": "https://localhost:8080/"
    },
    "id": "9qvVvaSWb6xY",
    "outputId": "a801f71e-5e83-4d3a-a4ca-d77cb5b8eb87"
   },
   "outputs": [
    {
     "name": "stderr",
     "output_type": "stream",
     "text": [
      "Number of requested results 4 is greater than number of elements in index 3, updating n_results = 3\n"
     ]
    },
    {
     "name": "stdout",
     "output_type": "stream",
     "text": [
      "{'query': 'What is Super Bowl ?', 'result': \"The Super Bowl is the championship game of the National Football League (NFL), played annually between the champions of the league's two conferences, the American Football Conference (AFC) and the National Football Conference (NFC). Thanks for asking!\"}\n"
     ]
    }
   ],
   "source": [
    "question = \"What is Super Bowl ?\"\n",
    "\n",
    "result = qa_chain({\"query\": question})\n",
    "\n",
    "print(result)"
   ]
  },
  {
   "cell_type": "code",
   "execution_count": 48,
   "metadata": {
    "colab": {
     "base_uri": "https://localhost:8080/"
    },
    "id": "ukw6pBCvcRMg",
    "outputId": "7090015c-1451-44b4-d1e8-78b31dde7293"
   },
   "outputs": [
    {
     "name": "stderr",
     "output_type": "stream",
     "text": [
      "Number of requested results 4 is greater than number of elements in index 3, updating n_results = 3\n"
     ]
    }
   ],
   "source": [
    "question = \"How many team has won Super Bowl ?\"\n",
    "\n",
    "result = qa_chain({\"query\": question})"
   ]
  },
  {
   "cell_type": "code",
   "execution_count": 49,
   "metadata": {
    "colab": {
     "base_uri": "https://localhost:8080/"
    },
    "id": "2CumagA2cSfT",
    "outputId": "55c28e1c-8e4d-420c-fac5-b9331abfe1b4"
   },
   "outputs": [
    {
     "name": "stdout",
     "output_type": "stream",
     "text": [
      "{'query': 'How many team has won Super Bowl ?', 'result': 'Twenty NFL teams have won at least one of the first 53 Super Bowls. Thanks for asking!'}\n"
     ]
    }
   ],
   "source": [
    "print(result)"
   ]
  },
  {
   "cell_type": "code",
   "execution_count": 32,
   "metadata": {
    "colab": {
     "base_uri": "https://localhost:8080/"
    },
    "id": "nPbMP3RNcdPX",
    "outputId": "10e482f3-d200-4d33-b6cb-47dc85665050"
   },
   "outputs": [
    {
     "name": "stderr",
     "output_type": "stream",
     "text": [
      "Number of requested results 4 is greater than number of elements in index 3, updating n_results = 3\n"
     ]
    }
   ],
   "source": [
    "question = \"Which team rank number 1 in total number of Super Bowl ?\"\n",
    "\n",
    "result = qa_chain({\"query\": question})"
   ]
  },
  {
   "cell_type": "code",
   "execution_count": 33,
   "metadata": {
    "colab": {
     "base_uri": "https://localhost:8080/"
    },
    "id": "a8nEQCUHcgqK",
    "outputId": "908fc54b-8bdb-4446-bb47-1f81e2795d63"
   },
   "outputs": [
    {
     "name": "stdout",
     "output_type": "stream",
     "text": [
      "{'query': 'Which team rank number 1 in total number of Super Bowl ?', 'result': 'The New England Patriots rank number 1 in total number of Super Bowl wins with six championships. Thanks for asking!'}\n"
     ]
    }
   ],
   "source": [
    "print(result)"
   ]
  },
  {
   "cell_type": "code",
   "execution_count": 60,
   "metadata": {},
   "outputs": [
    {
     "name": "stderr",
     "output_type": "stream",
     "text": [
      "Number of requested results 4 is greater than number of elements in index 3, updating n_results = 3\n"
     ]
    }
   ],
   "source": [
    "question = \"Compose a concise summary, using no more than five sentences.\"\n",
    "\n",
    "result = qa_chain({\"query\": question})"
   ]
  },
  {
   "cell_type": "code",
   "execution_count": 61,
   "metadata": {},
   "outputs": [
    {
     "name": "stdout",
     "output_type": "stream",
     "text": [
      "{'query': 'Compose a concise summary, using no more than five sentences.', 'result': '{\\n  \"summary\": \"The NFL is celebrating its 100th season and has remained the most popular sports league in the US. The league has seen dynasties from teams like the Steelers, 49ers, and Cowboys. The New England Patriots, led by Tom Brady, have won six Super Bowls in the past 18 seasons. The NFL has also expanded internationally, with games now played in the UK and Mexico. The league\\'s history includes significant moments like integration, the creation of the Super Bowl, and the introduction of Monday Night Football.\"\\n}'}\n"
     ]
    }
   ],
   "source": [
    "print(result)"
   ]
  },
  {
   "cell_type": "code",
   "execution_count": null,
   "metadata": {},
   "outputs": [],
   "source": []
  }
 ],
 "metadata": {
  "colab": {
   "authorship_tag": "ABX9TyOpry+Cfu36/qBeTbcMWZmu",
   "mount_file_id": "1-lAbxeNaOglWq396Qm6PGf_86WZ8xceN",
   "provenance": []
  },
  "kernelspec": {
   "display_name": "Python 3 (ipykernel)",
   "language": "python",
   "name": "python3"
  },
  "language_info": {
   "codemirror_mode": {
    "name": "ipython",
    "version": 3
   },
   "file_extension": ".py",
   "mimetype": "text/x-python",
   "name": "python",
   "nbconvert_exporter": "python",
   "pygments_lexer": "ipython3",
   "version": "3.11.6"
  }
 },
 "nbformat": 4,
 "nbformat_minor": 4
}
